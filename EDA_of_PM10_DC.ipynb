{
  "nbformat": 4,
  "nbformat_minor": 0,
  "metadata": {
    "colab": {
      "name": "EDA of PM10 DC.ipynb",
      "provenance": []
    },
    "kernelspec": {
      "name": "python3",
      "display_name": "Python 3"
    },
    "language_info": {
      "name": "python"
    }
  },
  "cells": [
    {
      "cell_type": "code",
      "metadata": {
        "colab": {
          "base_uri": "https://localhost:8080/"
        },
        "id": "dys9fT4EyWQh",
        "outputId": "2c2017ed-ff0b-44de-e9e0-6892bd140e04"
      },
      "source": [
        "import glob\n",
        "import pandas as pd\n",
        "import os\n",
        "import matplotlib.pyplot as plt\n",
        "import seaborn as sns\n",
        "import numpy as np\n",
        "import numpy as np\n",
        "np.random.seed(444)\n",
        "np.set_printoptions(precision=3)\n",
        "!pip install dash\n",
        "import dash\n",
        "import dash_core_components as dcc\n",
        "import dash_html_components as html\n",
        "from dash.dependencies import Input, Output\n",
        "import plotly.express as px"
      ],
      "execution_count": null,
      "outputs": [
        {
          "output_type": "stream",
          "name": "stdout",
          "text": [
            "Collecting dash\n",
            "  Downloading dash-2.0.0-py3-none-any.whl (7.3 MB)\n",
            "\u001b[K     |████████████████████████████████| 7.3 MB 17.4 MB/s \n",
            "\u001b[?25hCollecting plotly>=5.0.0\n",
            "  Downloading plotly-5.3.1-py2.py3-none-any.whl (23.9 MB)\n",
            "\u001b[K     |████████████████████████████████| 23.9 MB 14 kB/s \n",
            "\u001b[?25hCollecting dash-table==5.0.0\n",
            "  Downloading dash_table-5.0.0.tar.gz (3.4 kB)\n",
            "Requirement already satisfied: Flask>=1.0.4 in /usr/local/lib/python3.7/dist-packages (from dash) (1.1.4)\n",
            "Collecting flask-compress\n",
            "  Downloading Flask_Compress-1.10.1-py3-none-any.whl (7.9 kB)\n",
            "Collecting dash-html-components==2.0.0\n",
            "  Downloading dash_html_components-2.0.0.tar.gz (3.8 kB)\n",
            "Collecting dash-core-components==2.0.0\n",
            "  Downloading dash_core_components-2.0.0.tar.gz (3.4 kB)\n",
            "Requirement already satisfied: Werkzeug<2.0,>=0.15 in /usr/local/lib/python3.7/dist-packages (from Flask>=1.0.4->dash) (1.0.1)\n",
            "Requirement already satisfied: click<8.0,>=5.1 in /usr/local/lib/python3.7/dist-packages (from Flask>=1.0.4->dash) (7.1.2)\n",
            "Requirement already satisfied: Jinja2<3.0,>=2.10.1 in /usr/local/lib/python3.7/dist-packages (from Flask>=1.0.4->dash) (2.11.3)\n",
            "Requirement already satisfied: itsdangerous<2.0,>=0.24 in /usr/local/lib/python3.7/dist-packages (from Flask>=1.0.4->dash) (1.1.0)\n",
            "Requirement already satisfied: MarkupSafe>=0.23 in /usr/local/lib/python3.7/dist-packages (from Jinja2<3.0,>=2.10.1->Flask>=1.0.4->dash) (2.0.1)\n",
            "Requirement already satisfied: six in /usr/local/lib/python3.7/dist-packages (from plotly>=5.0.0->dash) (1.15.0)\n",
            "Collecting tenacity>=6.2.0\n",
            "  Downloading tenacity-8.0.1-py3-none-any.whl (24 kB)\n",
            "Collecting brotli\n",
            "  Downloading Brotli-1.0.9-cp37-cp37m-manylinux1_x86_64.whl (357 kB)\n",
            "\u001b[K     |████████████████████████████████| 357 kB 61.8 MB/s \n",
            "\u001b[?25hBuilding wheels for collected packages: dash-core-components, dash-html-components, dash-table\n",
            "  Building wheel for dash-core-components (setup.py) ... \u001b[?25l\u001b[?25hdone\n",
            "  Created wheel for dash-core-components: filename=dash_core_components-2.0.0-py3-none-any.whl size=3821 sha256=fe13b816f771a5b0c477d1abd63fec69855224b1687f27c67f98d22a4dce580a\n",
            "  Stored in directory: /root/.cache/pip/wheels/00/f9/c7/1a6437d794ed753ea9bc9079e761d4fc803a1f1f5d3697b9ec\n",
            "  Building wheel for dash-html-components (setup.py) ... \u001b[?25l\u001b[?25hdone\n",
            "  Created wheel for dash-html-components: filename=dash_html_components-2.0.0-py3-none-any.whl size=4089 sha256=24df646c2150f1bf9f6451ad2d12f8d2a3f3bea63cd0357cf58b6feaa6165a13\n",
            "  Stored in directory: /root/.cache/pip/wheels/ec/6b/81/05aceabd8b27f724e2c96784016287cc1bfbc349ebfda451de\n",
            "  Building wheel for dash-table (setup.py) ... \u001b[?25l\u001b[?25hdone\n",
            "  Created wheel for dash-table: filename=dash_table-5.0.0-py3-none-any.whl size=3911 sha256=65d3ad640a4506591f04676cad263ba1f6c088c0608f35848c39f4031d9df599\n",
            "  Stored in directory: /root/.cache/pip/wheels/85/5d/4e/7c276b57992951dbe770bf5caad6448d0539c510663aefd2e2\n",
            "Successfully built dash-core-components dash-html-components dash-table\n",
            "Installing collected packages: tenacity, brotli, plotly, flask-compress, dash-table, dash-html-components, dash-core-components, dash\n",
            "  Attempting uninstall: plotly\n",
            "    Found existing installation: plotly 4.4.1\n",
            "    Uninstalling plotly-4.4.1:\n",
            "      Successfully uninstalled plotly-4.4.1\n",
            "Successfully installed brotli-1.0.9 dash-2.0.0 dash-core-components-2.0.0 dash-html-components-2.0.0 dash-table-5.0.0 flask-compress-1.10.1 plotly-5.3.1 tenacity-8.0.1\n"
          ]
        },
        {
          "output_type": "stream",
          "name": "stderr",
          "text": [
            "/usr/local/lib/python3.7/dist-packages/ipykernel_launcher.py:12: UserWarning: \n",
            "The dash_core_components package is deprecated. Please replace\n",
            "`import dash_core_components as dcc` with `from dash import dcc`\n",
            "  if sys.path[0] == '':\n",
            "/usr/local/lib/python3.7/dist-packages/ipykernel_launcher.py:13: UserWarning: \n",
            "The dash_html_components package is deprecated. Please replace\n",
            "`import dash_html_components as html` with `from dash import html`\n",
            "  del sys.path[0]\n"
          ]
        }
      ]
    },
    {
      "cell_type": "code",
      "metadata": {
        "id": "x-kTvseIW_a4",
        "colab": {
          "base_uri": "https://localhost:8080/"
        },
        "outputId": "0311cae8-b182-493e-8cab-8f7a8be72119"
      },
      "source": [
        "os.chdir(\"/content/sample_data\")\n",
        "\n",
        "extension = 'csv'\n",
        "all_filenames = [i for i in glob.glob('*.{}'.format(extension))]\n",
        "\n",
        "#combine all files in the list\n",
        "combined_csv = pd.concat([pd.read_csv(f) for f in all_filenames ])\n",
        "#export to csv\n",
        "combined_csv.to_csv( \"combined_csv.csv\", index=False, encoding='utf-8-sig')\n",
        "combined_csv.to_csv\n",
        "df = pd.read_csv(\"combined_csv.csv\")\n",
        "df.info()"
      ],
      "execution_count": null,
      "outputs": [
        {
          "output_type": "stream",
          "name": "stdout",
          "text": [
            "<class 'pandas.core.frame.DataFrame'>\n",
            "RangeIndex: 2085 entries, 0 to 2084\n",
            "Data columns (total 20 columns):\n",
            " #   Column                         Non-Null Count  Dtype  \n",
            "---  ------                         --------------  -----  \n",
            " 0   Date                           2085 non-null   object \n",
            " 1   Source                         2085 non-null   object \n",
            " 2   Site ID                        2085 non-null   int64  \n",
            " 3   POC                            2085 non-null   int64  \n",
            " 4   Daily Mean PM10 Concentration  2085 non-null   int64  \n",
            " 5   UNITS                          2085 non-null   object \n",
            " 6   DAILY_AQI_VALUE                2085 non-null   int64  \n",
            " 7   Site Name                      2085 non-null   object \n",
            " 8   DAILY_OBS_COUNT                2085 non-null   int64  \n",
            " 9   PERCENT_COMPLETE               2085 non-null   float64\n",
            " 10  AQS_PARAMETER_CODE             2085 non-null   int64  \n",
            " 11  AQS_PARAMETER_DESC             2085 non-null   object \n",
            " 12  CBSA_CODE                      2085 non-null   int64  \n",
            " 13  CBSA_NAME                      2085 non-null   object \n",
            " 14  STATE_CODE                     2085 non-null   int64  \n",
            " 15  STATE                          2085 non-null   object \n",
            " 16  COUNTY_CODE                    2085 non-null   int64  \n",
            " 17  COUNTY                         2085 non-null   object \n",
            " 18  SITE_LATITUDE                  2085 non-null   float64\n",
            " 19  SITE_LONGITUDE                 2085 non-null   float64\n",
            "dtypes: float64(3), int64(9), object(8)\n",
            "memory usage: 325.9+ KB\n"
          ]
        }
      ]
    },
    {
      "cell_type": "code",
      "metadata": {
        "id": "dfrzAehpHEGw",
        "colab": {
          "base_uri": "https://localhost:8080/",
          "height": 593
        },
        "outputId": "bece7b65-f2ea-428a-8ca6-43e9b136200c"
      },
      "source": [
        "df.head(5)"
      ],
      "execution_count": null,
      "outputs": [
        {
          "output_type": "execute_result",
          "data": {
            "text/html": [
              "<div>\n",
              "<style scoped>\n",
              "    .dataframe tbody tr th:only-of-type {\n",
              "        vertical-align: middle;\n",
              "    }\n",
              "\n",
              "    .dataframe tbody tr th {\n",
              "        vertical-align: top;\n",
              "    }\n",
              "\n",
              "    .dataframe thead th {\n",
              "        text-align: right;\n",
              "    }\n",
              "</style>\n",
              "<table border=\"1\" class=\"dataframe\">\n",
              "  <thead>\n",
              "    <tr style=\"text-align: right;\">\n",
              "      <th></th>\n",
              "      <th>Date</th>\n",
              "      <th>Source</th>\n",
              "      <th>Site ID</th>\n",
              "      <th>POC</th>\n",
              "      <th>Daily Mean PM10 Concentration</th>\n",
              "      <th>UNITS</th>\n",
              "      <th>DAILY_AQI_VALUE</th>\n",
              "      <th>Site Name</th>\n",
              "      <th>DAILY_OBS_COUNT</th>\n",
              "      <th>PERCENT_COMPLETE</th>\n",
              "      <th>AQS_PARAMETER_CODE</th>\n",
              "      <th>AQS_PARAMETER_DESC</th>\n",
              "      <th>CBSA_CODE</th>\n",
              "      <th>CBSA_NAME</th>\n",
              "      <th>STATE_CODE</th>\n",
              "      <th>STATE</th>\n",
              "      <th>COUNTY_CODE</th>\n",
              "      <th>COUNTY</th>\n",
              "      <th>SITE_LATITUDE</th>\n",
              "      <th>SITE_LONGITUDE</th>\n",
              "    </tr>\n",
              "  </thead>\n",
              "  <tbody>\n",
              "    <tr>\n",
              "      <th>0</th>\n",
              "      <td>01/01/2019</td>\n",
              "      <td>AQS</td>\n",
              "      <td>110010043</td>\n",
              "      <td>4</td>\n",
              "      <td>6</td>\n",
              "      <td>ug/m3 SC</td>\n",
              "      <td>6</td>\n",
              "      <td>MCMILLAN  NCore-PAMS</td>\n",
              "      <td>1</td>\n",
              "      <td>100.0</td>\n",
              "      <td>81102</td>\n",
              "      <td>PM10 Total 0-10um STP</td>\n",
              "      <td>47900</td>\n",
              "      <td>Washington-Arlington-Alexandria, DC-VA-MD-WV</td>\n",
              "      <td>11</td>\n",
              "      <td>District Of Columbia</td>\n",
              "      <td>1</td>\n",
              "      <td>District of Columbia</td>\n",
              "      <td>38.921847</td>\n",
              "      <td>-77.013178</td>\n",
              "    </tr>\n",
              "    <tr>\n",
              "      <th>1</th>\n",
              "      <td>01/02/2019</td>\n",
              "      <td>AQS</td>\n",
              "      <td>110010043</td>\n",
              "      <td>4</td>\n",
              "      <td>11</td>\n",
              "      <td>ug/m3 SC</td>\n",
              "      <td>10</td>\n",
              "      <td>MCMILLAN  NCore-PAMS</td>\n",
              "      <td>1</td>\n",
              "      <td>100.0</td>\n",
              "      <td>81102</td>\n",
              "      <td>PM10 Total 0-10um STP</td>\n",
              "      <td>47900</td>\n",
              "      <td>Washington-Arlington-Alexandria, DC-VA-MD-WV</td>\n",
              "      <td>11</td>\n",
              "      <td>District Of Columbia</td>\n",
              "      <td>1</td>\n",
              "      <td>District of Columbia</td>\n",
              "      <td>38.921847</td>\n",
              "      <td>-77.013178</td>\n",
              "    </tr>\n",
              "    <tr>\n",
              "      <th>2</th>\n",
              "      <td>01/03/2019</td>\n",
              "      <td>AQS</td>\n",
              "      <td>110010043</td>\n",
              "      <td>4</td>\n",
              "      <td>13</td>\n",
              "      <td>ug/m3 SC</td>\n",
              "      <td>12</td>\n",
              "      <td>MCMILLAN  NCore-PAMS</td>\n",
              "      <td>1</td>\n",
              "      <td>100.0</td>\n",
              "      <td>81102</td>\n",
              "      <td>PM10 Total 0-10um STP</td>\n",
              "      <td>47900</td>\n",
              "      <td>Washington-Arlington-Alexandria, DC-VA-MD-WV</td>\n",
              "      <td>11</td>\n",
              "      <td>District Of Columbia</td>\n",
              "      <td>1</td>\n",
              "      <td>District of Columbia</td>\n",
              "      <td>38.921847</td>\n",
              "      <td>-77.013178</td>\n",
              "    </tr>\n",
              "    <tr>\n",
              "      <th>3</th>\n",
              "      <td>01/04/2019</td>\n",
              "      <td>AQS</td>\n",
              "      <td>110010043</td>\n",
              "      <td>4</td>\n",
              "      <td>18</td>\n",
              "      <td>ug/m3 SC</td>\n",
              "      <td>17</td>\n",
              "      <td>MCMILLAN  NCore-PAMS</td>\n",
              "      <td>1</td>\n",
              "      <td>100.0</td>\n",
              "      <td>81102</td>\n",
              "      <td>PM10 Total 0-10um STP</td>\n",
              "      <td>47900</td>\n",
              "      <td>Washington-Arlington-Alexandria, DC-VA-MD-WV</td>\n",
              "      <td>11</td>\n",
              "      <td>District Of Columbia</td>\n",
              "      <td>1</td>\n",
              "      <td>District of Columbia</td>\n",
              "      <td>38.921847</td>\n",
              "      <td>-77.013178</td>\n",
              "    </tr>\n",
              "    <tr>\n",
              "      <th>4</th>\n",
              "      <td>01/05/2019</td>\n",
              "      <td>AQS</td>\n",
              "      <td>110010043</td>\n",
              "      <td>4</td>\n",
              "      <td>8</td>\n",
              "      <td>ug/m3 SC</td>\n",
              "      <td>7</td>\n",
              "      <td>MCMILLAN  NCore-PAMS</td>\n",
              "      <td>1</td>\n",
              "      <td>100.0</td>\n",
              "      <td>81102</td>\n",
              "      <td>PM10 Total 0-10um STP</td>\n",
              "      <td>47900</td>\n",
              "      <td>Washington-Arlington-Alexandria, DC-VA-MD-WV</td>\n",
              "      <td>11</td>\n",
              "      <td>District Of Columbia</td>\n",
              "      <td>1</td>\n",
              "      <td>District of Columbia</td>\n",
              "      <td>38.921847</td>\n",
              "      <td>-77.013178</td>\n",
              "    </tr>\n",
              "  </tbody>\n",
              "</table>\n",
              "</div>"
            ],
            "text/plain": [
              "         Date Source  ...  SITE_LATITUDE  SITE_LONGITUDE\n",
              "0  01/01/2019    AQS  ...      38.921847      -77.013178\n",
              "1  01/02/2019    AQS  ...      38.921847      -77.013178\n",
              "2  01/03/2019    AQS  ...      38.921847      -77.013178\n",
              "3  01/04/2019    AQS  ...      38.921847      -77.013178\n",
              "4  01/05/2019    AQS  ...      38.921847      -77.013178\n",
              "\n",
              "[5 rows x 20 columns]"
            ]
          },
          "metadata": {},
          "execution_count": 24
        }
      ]
    },
    {
      "cell_type": "code",
      "metadata": {
        "colab": {
          "base_uri": "https://localhost:8080/"
        },
        "id": "ks0OAhWnBwOt",
        "outputId": "3bf2c810-4c26-4722-cf30-4096c4c4a47a"
      },
      "source": [
        "\n",
        "df.shape"
      ],
      "execution_count": null,
      "outputs": [
        {
          "output_type": "execute_result",
          "data": {
            "text/plain": [
              "(2085, 20)"
            ]
          },
          "metadata": {},
          "execution_count": 23
        }
      ]
    },
    {
      "cell_type": "code",
      "metadata": {
        "colab": {
          "base_uri": "https://localhost:8080/"
        },
        "id": "05-87zuRB8do",
        "outputId": "280199cb-38da-4644-d769-9d2cfcce4ea6"
      },
      "source": [
        "df.columns"
      ],
      "execution_count": null,
      "outputs": [
        {
          "output_type": "execute_result",
          "data": {
            "text/plain": [
              "Index(['Date', 'Source', 'Site ID', 'POC', 'Daily Mean PM10 Concentration',\n",
              "       'UNITS', 'DAILY_AQI_VALUE', 'Site Name', 'DAILY_OBS_COUNT',\n",
              "       'PERCENT_COMPLETE', 'AQS_PARAMETER_CODE', 'AQS_PARAMETER_DESC',\n",
              "       'CBSA_CODE', 'CBSA_NAME', 'STATE_CODE', 'STATE', 'COUNTY_CODE',\n",
              "       'COUNTY', 'SITE_LATITUDE', 'SITE_LONGITUDE'],\n",
              "      dtype='object')"
            ]
          },
          "metadata": {},
          "execution_count": 5
        }
      ]
    },
    {
      "cell_type": "code",
      "metadata": {
        "colab": {
          "base_uri": "https://localhost:8080/"
        },
        "id": "erZGTp86CAbm",
        "outputId": "d693746f-3fdb-49e0-d195-bbad3107176b"
      },
      "source": [
        "df.isnull().sum()"
      ],
      "execution_count": null,
      "outputs": [
        {
          "output_type": "execute_result",
          "data": {
            "text/plain": [
              "Date                             0\n",
              "Source                           0\n",
              "Site ID                          0\n",
              "POC                              0\n",
              "Daily Mean PM10 Concentration    0\n",
              "UNITS                            0\n",
              "DAILY_AQI_VALUE                  0\n",
              "Site Name                        0\n",
              "DAILY_OBS_COUNT                  0\n",
              "PERCENT_COMPLETE                 0\n",
              "AQS_PARAMETER_CODE               0\n",
              "AQS_PARAMETER_DESC               0\n",
              "CBSA_CODE                        0\n",
              "CBSA_NAME                        0\n",
              "STATE_CODE                       0\n",
              "STATE                            0\n",
              "COUNTY_CODE                      0\n",
              "COUNTY                           0\n",
              "SITE_LATITUDE                    0\n",
              "SITE_LONGITUDE                   0\n",
              "dtype: int64"
            ]
          },
          "metadata": {},
          "execution_count": 6
        }
      ]
    },
    {
      "cell_type": "code",
      "metadata": {
        "colab": {
          "base_uri": "https://localhost:8080/"
        },
        "id": "k56sl7dC5jI6",
        "outputId": "56ef200f-9173-4385-b941-7c05a25da41b"
      },
      "source": [
        "df.duplicated()"
      ],
      "execution_count": null,
      "outputs": [
        {
          "output_type": "execute_result",
          "data": {
            "text/plain": [
              "0       False\n",
              "1       False\n",
              "2       False\n",
              "3       False\n",
              "4       False\n",
              "        ...  \n",
              "2080    False\n",
              "2081    False\n",
              "2082    False\n",
              "2083    False\n",
              "2084    False\n",
              "Length: 2085, dtype: bool"
            ]
          },
          "metadata": {},
          "execution_count": 7
        }
      ]
    },
    {
      "cell_type": "code",
      "metadata": {
        "colab": {
          "base_uri": "https://localhost:8080/"
        },
        "id": "jS8wGhMLmsEu",
        "outputId": "66cf41fd-ba4d-4b8b-f1bd-6485d6e0996e"
      },
      "source": [
        "print(df.isnull().sum())"
      ],
      "execution_count": null,
      "outputs": [
        {
          "output_type": "stream",
          "name": "stdout",
          "text": [
            "Date                             0\n",
            "Source                           0\n",
            "Site ID                          0\n",
            "POC                              0\n",
            "Daily Mean PM10 Concentration    0\n",
            "UNITS                            0\n",
            "DAILY_AQI_VALUE                  0\n",
            "Site Name                        0\n",
            "DAILY_OBS_COUNT                  0\n",
            "PERCENT_COMPLETE                 0\n",
            "AQS_PARAMETER_CODE               0\n",
            "AQS_PARAMETER_DESC               0\n",
            "CBSA_CODE                        0\n",
            "CBSA_NAME                        0\n",
            "STATE_CODE                       0\n",
            "STATE                            0\n",
            "COUNTY_CODE                      0\n",
            "COUNTY                           0\n",
            "SITE_LATITUDE                    0\n",
            "SITE_LONGITUDE                   0\n",
            "dtype: int64\n"
          ]
        }
      ]
    },
    {
      "cell_type": "code",
      "metadata": {
        "colab": {
          "base_uri": "https://localhost:8080/",
          "height": 296
        },
        "id": "CrWkiUzxnBJm",
        "outputId": "d9715cd4-f149-4f5d-a51c-03a7aea77425"
      },
      "source": [
        "sns.boxplot(x=df['Daily Mean PM10 Concentration'])"
      ],
      "execution_count": null,
      "outputs": [
        {
          "output_type": "execute_result",
          "data": {
            "text/plain": [
              "<matplotlib.axes._subplots.AxesSubplot at 0x7f71ea9a2490>"
            ]
          },
          "metadata": {},
          "execution_count": 9
        },
        {
          "output_type": "display_data",
          "data": {
            "image/png": "[encoded data removed]",
            "text/plain": [
              "<Figure size 432x288 with 1 Axes>"
            ]
          },
          "metadata": {
            "needs_background": "light"
          }
        }
      ]
    },
    {
      "cell_type": "code",
      "metadata": {
        "colab": {
          "base_uri": "https://localhost:8080/",
          "height": 297
        },
        "id": "5rTUiKrKnwHG",
        "outputId": "83276d72-a9a2-44ac-9fc0-b050b91301ae"
      },
      "source": [
        "sns.boxplot(x=df['DAILY_AQI_VALUE'])"
      ],
      "execution_count": null,
      "outputs": [
        {
          "output_type": "execute_result",
          "data": {
            "text/plain": [
              "<matplotlib.axes._subplots.AxesSubplot at 0x7f71ea8efc50>"
            ]
          },
          "metadata": {},
          "execution_count": 10
        },
        {
          "output_type": "display_data",
          "data": {
            "image/png": "[encoded data removed]",
            "text/plain": [
              "<Figure size 432x288 with 1 Axes>"
            ]
          },
          "metadata": {
            "needs_background": "light"
          }
        }
      ]
    },
    {
      "cell_type": "code",
      "metadata": {
        "colab": {
          "base_uri": "https://localhost:8080/",
          "height": 297
        },
        "id": "qJJDGSyooEG-",
        "outputId": "b54ae797-640a-42be-91e0-98c201e6afb3"
      },
      "source": [
        "sns.boxplot(x=df['SITE_LATITUDE'])"
      ],
      "execution_count": null,
      "outputs": [
        {
          "output_type": "execute_result",
          "data": {
            "text/plain": [
              "<matplotlib.axes._subplots.AxesSubplot at 0x7f71ea40cb10>"
            ]
          },
          "metadata": {},
          "execution_count": 11
        },
        {
          "output_type": "display_data",
          "data": {
            "image/png": "[encoded data removed]",
            "text/plain": [
              "<Figure size 432x288 with 1 Axes>"
            ]
          },
          "metadata": {
            "needs_background": "light"
          }
        }
      ]
    },
    {
      "cell_type": "code",
      "metadata": {
        "colab": {
          "base_uri": "https://localhost:8080/",
          "height": 297
        },
        "id": "cwNrZQqepAvA",
        "outputId": "d3456df7-6a63-4997-c81f-49293c4ed4db"
      },
      "source": [
        "sns.boxplot(x=df['SITE_LONGITUDE'])"
      ],
      "execution_count": null,
      "outputs": [
        {
          "output_type": "execute_result",
          "data": {
            "text/plain": [
              "<matplotlib.axes._subplots.AxesSubplot at 0x7f71ea3c6f50>"
            ]
          },
          "metadata": {},
          "execution_count": 12
        },
        {
          "output_type": "display_data",
          "data": {
            "image/png": "[encoded data removed]",
            "text/plain": [
              "<Figure size 432x288 with 1 Axes>"
            ]
          },
          "metadata": {
            "needs_background": "light"
          }
        }
      ]
    },
    {
      "cell_type": "code",
      "metadata": {
        "colab": {
          "base_uri": "https://localhost:8080/",
          "height": 438
        },
        "id": "QwY8K47Ovrnu",
        "outputId": "d07a1fce-3570-46dd-9107-f638e1370581"
      },
      "source": [
        "# Plotting a Histogram\n",
        "df.SITE_LATITUDE.value_counts().nlargest(40).plot(kind='bar', figsize=(10,5))\n",
        "plt.title('Daily Mean PM10 Concentration by Lattitude')\n",
        "plt.ylabel('Daily Mean PM10 Concentration')\n",
        "plt.xlabel('SITE_LATITUDE');"
      ],
      "execution_count": null,
      "outputs": [
        {
          "output_type": "display_data",
          "data": {
            "image/png": "[encoded data removed]",
            "text/plain": [
              "<Figure size 720x360 with 1 Axes>"
            ]
          },
          "metadata": {
            "needs_background": "light"
          }
        }
      ]
    },
    {
      "cell_type": "code",
      "metadata": {
        "colab": {
          "base_uri": "https://localhost:8080/",
          "height": 398
        },
        "id": "dgbofRLhwvhg",
        "outputId": "93f95c7e-6c70-41ef-d6ff-807326083fc2"
      },
      "source": [
        "# Plotting a Histogram\n",
        "df.SITE_LONGITUDE.value_counts().nlargest(40).plot(kind='bar', figsize=(10,5))\n",
        "plt.title('Daily Mean PM10 Concentration by Longitude')\n",
        "plt.ylabel('Daily Mean PM10 Concentration')\n",
        "plt.xlabel('SITE_LONGITUDE');"
      ],
      "execution_count": null,
      "outputs": [
        {
          "output_type": "display_data",
          "data": {
            "image/png": "[encoded data removed]",
            "text/plain": [
              "<Figure size 720x360 with 1 Axes>"
            ]
          },
          "metadata": {
            "needs_background": "light"
          }
        }
      ]
    },
    {
      "cell_type": "markdown",
      "metadata": {
        "id": "5mwIsFmuCIy9"
      },
      "source": [
        "**Analyzing**"
      ]
    },
    {
      "cell_type": "code",
      "metadata": {
        "id": "zmjQQrKTCL4A"
      },
      "source": [
        "corr = df.corr"
      ],
      "execution_count": null,
      "outputs": []
    },
    {
      "cell_type": "code",
      "metadata": {
        "colab": {
          "base_uri": "https://localhost:8080/",
          "height": 1000
        },
        "id": "ek6zIZnJxzbV",
        "outputId": "ebdc5b56-120c-44e0-830c-3d06d995de23"
      },
      "source": [
        "plt.figure(figsize=(15,10))\n",
        "c= df.corr()\n",
        "sns.heatmap(c,cmap='BrBG',annot=True)\n",
        "c"
      ],
      "execution_count": null,
      "outputs": [
        {
          "output_type": "execute_result",
          "data": {
            "text/html": [
              "<div>\n",
              "<style scoped>\n",
              "    .dataframe tbody tr th:only-of-type {\n",
              "        vertical-align: middle;\n",
              "    }\n",
              "\n",
              "    .dataframe tbody tr th {\n",
              "        vertical-align: top;\n",
              "    }\n",
              "\n",
              "    .dataframe thead th {\n",
              "        text-align: right;\n",
              "    }\n",
              "</style>\n",
              "<table border=\"1\" class=\"dataframe\">\n",
              "  <thead>\n",
              "    <tr style=\"text-align: right;\">\n",
              "      <th></th>\n",
              "      <th>Site ID</th>\n",
              "      <th>POC</th>\n",
              "      <th>Daily Mean PM10 Concentration</th>\n",
              "      <th>DAILY_AQI_VALUE</th>\n",
              "      <th>DAILY_OBS_COUNT</th>\n",
              "      <th>PERCENT_COMPLETE</th>\n",
              "      <th>AQS_PARAMETER_CODE</th>\n",
              "      <th>CBSA_CODE</th>\n",
              "      <th>STATE_CODE</th>\n",
              "      <th>COUNTY_CODE</th>\n",
              "      <th>SITE_LATITUDE</th>\n",
              "      <th>SITE_LONGITUDE</th>\n",
              "    </tr>\n",
              "  </thead>\n",
              "  <tbody>\n",
              "    <tr>\n",
              "      <th>Site ID</th>\n",
              "      <td>NaN</td>\n",
              "      <td>NaN</td>\n",
              "      <td>NaN</td>\n",
              "      <td>NaN</td>\n",
              "      <td>NaN</td>\n",
              "      <td>NaN</td>\n",
              "      <td>NaN</td>\n",
              "      <td>NaN</td>\n",
              "      <td>NaN</td>\n",
              "      <td>NaN</td>\n",
              "      <td>NaN</td>\n",
              "      <td>NaN</td>\n",
              "    </tr>\n",
              "    <tr>\n",
              "      <th>POC</th>\n",
              "      <td>NaN</td>\n",
              "      <td>NaN</td>\n",
              "      <td>NaN</td>\n",
              "      <td>NaN</td>\n",
              "      <td>NaN</td>\n",
              "      <td>NaN</td>\n",
              "      <td>NaN</td>\n",
              "      <td>NaN</td>\n",
              "      <td>NaN</td>\n",
              "      <td>NaN</td>\n",
              "      <td>NaN</td>\n",
              "      <td>NaN</td>\n",
              "    </tr>\n",
              "    <tr>\n",
              "      <th>Daily Mean PM10 Concentration</th>\n",
              "      <td>NaN</td>\n",
              "      <td>NaN</td>\n",
              "      <td>1.000000e+00</td>\n",
              "      <td>9.990694e-01</td>\n",
              "      <td>NaN</td>\n",
              "      <td>NaN</td>\n",
              "      <td>NaN</td>\n",
              "      <td>NaN</td>\n",
              "      <td>NaN</td>\n",
              "      <td>NaN</td>\n",
              "      <td>-0.024737</td>\n",
              "      <td>9.119646e-17</td>\n",
              "    </tr>\n",
              "    <tr>\n",
              "      <th>DAILY_AQI_VALUE</th>\n",
              "      <td>NaN</td>\n",
              "      <td>NaN</td>\n",
              "      <td>9.990694e-01</td>\n",
              "      <td>1.000000e+00</td>\n",
              "      <td>NaN</td>\n",
              "      <td>NaN</td>\n",
              "      <td>NaN</td>\n",
              "      <td>NaN</td>\n",
              "      <td>NaN</td>\n",
              "      <td>NaN</td>\n",
              "      <td>-0.024532</td>\n",
              "      <td>-8.865116e-16</td>\n",
              "    </tr>\n",
              "    <tr>\n",
              "      <th>DAILY_OBS_COUNT</th>\n",
              "      <td>NaN</td>\n",
              "      <td>NaN</td>\n",
              "      <td>NaN</td>\n",
              "      <td>NaN</td>\n",
              "      <td>NaN</td>\n",
              "      <td>NaN</td>\n",
              "      <td>NaN</td>\n",
              "      <td>NaN</td>\n",
              "      <td>NaN</td>\n",
              "      <td>NaN</td>\n",
              "      <td>NaN</td>\n",
              "      <td>NaN</td>\n",
              "    </tr>\n",
              "    <tr>\n",
              "      <th>PERCENT_COMPLETE</th>\n",
              "      <td>NaN</td>\n",
              "      <td>NaN</td>\n",
              "      <td>NaN</td>\n",
              "      <td>NaN</td>\n",
              "      <td>NaN</td>\n",
              "      <td>NaN</td>\n",
              "      <td>NaN</td>\n",
              "      <td>NaN</td>\n",
              "      <td>NaN</td>\n",
              "      <td>NaN</td>\n",
              "      <td>NaN</td>\n",
              "      <td>NaN</td>\n",
              "    </tr>\n",
              "    <tr>\n",
              "      <th>AQS_PARAMETER_CODE</th>\n",
              "      <td>NaN</td>\n",
              "      <td>NaN</td>\n",
              "      <td>NaN</td>\n",
              "      <td>NaN</td>\n",
              "      <td>NaN</td>\n",
              "      <td>NaN</td>\n",
              "      <td>NaN</td>\n",
              "      <td>NaN</td>\n",
              "      <td>NaN</td>\n",
              "      <td>NaN</td>\n",
              "      <td>NaN</td>\n",
              "      <td>NaN</td>\n",
              "    </tr>\n",
              "    <tr>\n",
              "      <th>CBSA_CODE</th>\n",
              "      <td>NaN</td>\n",
              "      <td>NaN</td>\n",
              "      <td>NaN</td>\n",
              "      <td>NaN</td>\n",
              "      <td>NaN</td>\n",
              "      <td>NaN</td>\n",
              "      <td>NaN</td>\n",
              "      <td>NaN</td>\n",
              "      <td>NaN</td>\n",
              "      <td>NaN</td>\n",
              "      <td>NaN</td>\n",
              "      <td>NaN</td>\n",
              "    </tr>\n",
              "    <tr>\n",
              "      <th>STATE_CODE</th>\n",
              "      <td>NaN</td>\n",
              "      <td>NaN</td>\n",
              "      <td>NaN</td>\n",
              "      <td>NaN</td>\n",
              "      <td>NaN</td>\n",
              "      <td>NaN</td>\n",
              "      <td>NaN</td>\n",
              "      <td>NaN</td>\n",
              "      <td>NaN</td>\n",
              "      <td>NaN</td>\n",
              "      <td>NaN</td>\n",
              "      <td>NaN</td>\n",
              "    </tr>\n",
              "    <tr>\n",
              "      <th>COUNTY_CODE</th>\n",
              "      <td>NaN</td>\n",
              "      <td>NaN</td>\n",
              "      <td>NaN</td>\n",
              "      <td>NaN</td>\n",
              "      <td>NaN</td>\n",
              "      <td>NaN</td>\n",
              "      <td>NaN</td>\n",
              "      <td>NaN</td>\n",
              "      <td>NaN</td>\n",
              "      <td>NaN</td>\n",
              "      <td>NaN</td>\n",
              "      <td>NaN</td>\n",
              "    </tr>\n",
              "    <tr>\n",
              "      <th>SITE_LATITUDE</th>\n",
              "      <td>NaN</td>\n",
              "      <td>NaN</td>\n",
              "      <td>-2.473726e-02</td>\n",
              "      <td>-2.453166e-02</td>\n",
              "      <td>NaN</td>\n",
              "      <td>NaN</td>\n",
              "      <td>NaN</td>\n",
              "      <td>NaN</td>\n",
              "      <td>NaN</td>\n",
              "      <td>NaN</td>\n",
              "      <td>1.000000</td>\n",
              "      <td>-5.152239e-04</td>\n",
              "    </tr>\n",
              "    <tr>\n",
              "      <th>SITE_LONGITUDE</th>\n",
              "      <td>NaN</td>\n",
              "      <td>NaN</td>\n",
              "      <td>9.119646e-17</td>\n",
              "      <td>-8.865116e-16</td>\n",
              "      <td>NaN</td>\n",
              "      <td>NaN</td>\n",
              "      <td>NaN</td>\n",
              "      <td>NaN</td>\n",
              "      <td>NaN</td>\n",
              "      <td>NaN</td>\n",
              "      <td>-0.000515</td>\n",
              "      <td>1.000000e+00</td>\n",
              "    </tr>\n",
              "  </tbody>\n",
              "</table>\n",
              "</div>"
            ],
            "text/plain": [
              "                               Site ID  POC  ...  SITE_LATITUDE  SITE_LONGITUDE\n",
              "Site ID                            NaN  NaN  ...            NaN             NaN\n",
              "POC                                NaN  NaN  ...            NaN             NaN\n",
              "Daily Mean PM10 Concentration      NaN  NaN  ...      -0.024737    9.119646e-17\n",
              "DAILY_AQI_VALUE                    NaN  NaN  ...      -0.024532   -8.865116e-16\n",
              "DAILY_OBS_COUNT                    NaN  NaN  ...            NaN             NaN\n",
              "PERCENT_COMPLETE                   NaN  NaN  ...            NaN             NaN\n",
              "AQS_PARAMETER_CODE                 NaN  NaN  ...            NaN             NaN\n",
              "CBSA_CODE                          NaN  NaN  ...            NaN             NaN\n",
              "STATE_CODE                         NaN  NaN  ...            NaN             NaN\n",
              "COUNTY_CODE                        NaN  NaN  ...            NaN             NaN\n",
              "SITE_LATITUDE                      NaN  NaN  ...       1.000000   -5.152239e-04\n",
              "SITE_LONGITUDE                     NaN  NaN  ...      -0.000515    1.000000e+00\n",
              "\n",
              "[12 rows x 12 columns]"
            ]
          },
          "metadata": {},
          "execution_count": 16
        },
        {
          "output_type": "display_data",
          "data": {
            "image/png": "[encoded data removed]",
            "text/plain": [
              "<Figure size 1080x720 with 2 Axes>"
            ]
          },
          "metadata": {
            "needs_background": "light"
          }
        }
      ]
    },
    {
      "cell_type": "code",
      "metadata": {
        "colab": {
          "base_uri": "https://localhost:8080/",
          "height": 436
        },
        "id": "iBzlIQM2AcEo",
        "outputId": "1accf5f8-0bf1-4884-8a9f-8ed8fefedff3"
      },
      "source": [
        "sns.heatmap(df.corr(), annot = True, fmt='.1g', vmin=-1, vmax=1, center= 0, cmap= 'coolwarm', linewidths=2, linecolor='black')"
      ],
      "execution_count": null,
      "outputs": [
        {
          "output_type": "execute_result",
          "data": {
            "text/plain": [
              "<matplotlib.axes._subplots.AxesSubplot at 0x7f71e20f1990>"
            ]
          },
          "metadata": {},
          "execution_count": 17
        },
        {
          "output_type": "display_data",
          "data": {
            "image/png": "[encoded data removed]",
            "text/plain": [
              "<Figure size 432x288 with 2 Axes>"
            ]
          },
          "metadata": {
            "needs_background": "light"
          }
        }
      ]
    },
    {
      "cell_type": "code",
      "metadata": {
        "id": "99jyql-0rdti",
        "colab": {
          "base_uri": "https://localhost:8080/",
          "height": 389
        },
        "outputId": "ed22ed86-1133-44f0-ac25-d5dbfee1df00"
      },
      "source": [
        "# Plotting a scatter plot\n",
        "fig, ax = plt.subplots(figsize=(10,6))\n",
        "ax.scatter(df['DAILY_AQI_VALUE'], df['Daily Mean PM10 Concentration'])\n",
        "ax.set_xlabel('DAILY_AQI_VALUE')\n",
        "ax.set_ylabel('Daily Mean PM10 Concentration')\n",
        "plt.show()"
      ],
      "execution_count": null,
      "outputs": [
        {
          "output_type": "display_data",
          "data": {
            "image/png": "[encoded data removed]",
            "text/plain": [
              "<Figure size 720x432 with 1 Axes>"
            ]
          },
          "metadata": {
            "needs_background": "light"
          }
        }
      ]
    },
    {
      "cell_type": "code",
      "metadata": {
        "id": "4ZeSCgK66jTW"
      },
      "source": [
        ""
      ],
      "execution_count": null,
      "outputs": []
    }
  ]
}